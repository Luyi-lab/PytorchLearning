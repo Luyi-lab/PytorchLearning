{
 "cells": [
  {
   "cell_type": "code",
   "execution_count": 1,
   "metadata": {},
   "outputs": [],
   "source": [
    "#Transforms is used to perform \n",
    "#some manipulation of the data and make it suitable for training.\n",
    "import torch\n",
    "from torchvision import datasets\n",
    "from torchvision.transforms import ToTensor, Lambda"
   ]
  },
  {
   "cell_type": "code",
   "execution_count": 2,
   "metadata": {},
   "outputs": [],
   "source": [
    "ds = datasets.FashionMNIST(\n",
    "    root=\"data\",\n",
    "    train=True,\n",
    "    download=True,\n",
    "    #converts a PIL image or NumPy ndarray into a FloatTensor\n",
    "    # and scales the image’s pixel intensity values in the range [0., 1.]\n",
    "    transform=ToTensor(),\n",
    "    #apply any user-defined lambda function\n",
    "    #here we use one-hot encoded\n",
    "    target_transform=Lambda(lambda y: torch.zeros(10, dtype=torch.float).scatter_(0, torch.tensor(y), value=1))\n",
    ")"
   ]
  }
 ],
 "metadata": {
  "interpreter": {
   "hash": "0d80b2155b04d7438a6bcae156c925d5937454b2981d3e8c144c422ccbfcad5a"
  },
  "kernelspec": {
   "display_name": "Python 3.7.11 64-bit ('luyi_py37_env': conda)",
   "name": "python3"
  },
  "language_info": {
   "codemirror_mode": {
    "name": "ipython",
    "version": 3
   },
   "file_extension": ".py",
   "mimetype": "text/x-python",
   "name": "python",
   "nbconvert_exporter": "python",
   "pygments_lexer": "ipython3",
   "version": "3.7.11"
  },
  "orig_nbformat": 4
 },
 "nbformat": 4,
 "nbformat_minor": 2
}
